{
 "cells": [
  {
   "cell_type": "markdown",
   "id": "fd9bf759-9b31-4a73-a87d-f3aee2bebfe1",
   "metadata": {},
   "source": [
    "# Preprocessing Categorical Variables\n",
    "\n",
    "In machine learning, most algorithms require numerical input data, so categorical data must be converted into a numerical format. Two common approaches for this are label encoding and one-hot encoding. We learnt both methods in `Unit 1.8`, let's do a recap.\n",
    "\n",
    "## Label Encoding\n",
    "\n",
    "Label encoding is a simple and straightforward method where each unique category value is assigned an integer value.\n",
    "\n",
    "### How it Works\n",
    "\n",
    "For example, if you have a `color` feature with three categories: `red`, `green`, and `blue`, label encoding would replace them with `0`, `1`, and `2`, respectively.\n",
    "\n",
    "### When to Use\n",
    "\n",
    "Label encoding is ideal for ordinal data, where the categories have some inherent order. However, using this method on nominal data (no intrinsic order) can introduce a new problem: the model might assume a natural ordering between categories which may result in poor performance or unexpected results.\n",
    "\n",
    "## One-Hot Encoding\n",
    "\n",
    "One-hot encoding converts categorical values into a binary vector representation where only one bit is set to `1` out of all the bits representing the categories.\n",
    "\n",
    "### How it Works\n",
    "\n",
    "Taking the same `color` example: for `red`, `green`, and `blue`, one-hot encoding would create three features, `is_red`, `is_green`, and `is_blue`. If the color is `red`, the corresponding feature `is_red` would be `1`, and the rest would be `0`: `red` = `[1, 0, 0]`, `green` = `[0, 1, 0]`, `blue` = `[0, 0, 1]`.\n",
    "\n",
    "### When to Use\n",
    "\n",
    "One-hot encoding is best used for nominal data where no ordinal relationship exists. The downside is that it can lead to a high-dimensional feature space, which might be problematic for models that struggle with high dimensionality.\n",
    "\n"
   ]
  },
  {
   "cell_type": "markdown",
   "id": "3660a992-83b1-48ed-a025-d2437c813252",
   "metadata": {},
   "source": [
    "We can implement label encoding and one-hot encoding using `pandas` or `scikit-learn`."
   ]
  },
  {
   "cell_type": "code",
   "execution_count": 2,
   "id": "1a99f1c4-d2ea-4703-94f1-004a05228ce1",
   "metadata": {},
   "outputs": [],
   "source": [
    "import pandas as pd\n",
    "import numpy as np\n",
    "import matplotlib.pyplot as plt"
   ]
  },
  {
   "cell_type": "code",
   "execution_count": 3,
   "id": "857fd045-79f3-4b2c-b572-a7dbde7e5c20",
   "metadata": {},
   "outputs": [
    {
     "data": {
      "text/html": [
       "<div>\n",
       "<style scoped>\n",
       "    .dataframe tbody tr th:only-of-type {\n",
       "        vertical-align: middle;\n",
       "    }\n",
       "\n",
       "    .dataframe tbody tr th {\n",
       "        vertical-align: top;\n",
       "    }\n",
       "\n",
       "    .dataframe thead th {\n",
       "        text-align: right;\n",
       "    }\n",
       "</style>\n",
       "<table border=\"1\" class=\"dataframe\">\n",
       "  <thead>\n",
       "    <tr style=\"text-align: right;\">\n",
       "      <th></th>\n",
       "      <th>color</th>\n",
       "      <th>color_encoded</th>\n",
       "    </tr>\n",
       "  </thead>\n",
       "  <tbody>\n",
       "    <tr>\n",
       "      <th>0</th>\n",
       "      <td>red</td>\n",
       "      <td>2</td>\n",
       "    </tr>\n",
       "    <tr>\n",
       "      <th>1</th>\n",
       "      <td>green</td>\n",
       "      <td>1</td>\n",
       "    </tr>\n",
       "    <tr>\n",
       "      <th>2</th>\n",
       "      <td>blue</td>\n",
       "      <td>0</td>\n",
       "    </tr>\n",
       "    <tr>\n",
       "      <th>3</th>\n",
       "      <td>green</td>\n",
       "      <td>1</td>\n",
       "    </tr>\n",
       "    <tr>\n",
       "      <th>4</th>\n",
       "      <td>red</td>\n",
       "      <td>2</td>\n",
       "    </tr>\n",
       "  </tbody>\n",
       "</table>\n",
       "</div>"
      ],
      "text/plain": [
       "   color  color_encoded\n",
       "0    red              2\n",
       "1  green              1\n",
       "2   blue              0\n",
       "3  green              1\n",
       "4    red              2"
      ]
     },
     "execution_count": 3,
     "metadata": {},
     "output_type": "execute_result"
    }
   ],
   "source": [
    "df = pd.DataFrame({\n",
    "    'color': ['red', 'green', 'blue', 'green', 'red']\n",
    "})\n",
    "\n",
    "# apply label encoding\n",
    "df['color_encoded'] = df['color'].astype('category').cat.codes\n",
    "\n",
    "df"
   ]
  },
  {
   "cell_type": "code",
   "execution_count": 4,
   "id": "e75d81ce-b2bc-484e-8179-1bcaea6a8478",
   "metadata": {},
   "outputs": [
    {
     "data": {
      "text/html": [
       "<div>\n",
       "<style scoped>\n",
       "    .dataframe tbody tr th:only-of-type {\n",
       "        vertical-align: middle;\n",
       "    }\n",
       "\n",
       "    .dataframe tbody tr th {\n",
       "        vertical-align: top;\n",
       "    }\n",
       "\n",
       "    .dataframe thead th {\n",
       "        text-align: right;\n",
       "    }\n",
       "</style>\n",
       "<table border=\"1\" class=\"dataframe\">\n",
       "  <thead>\n",
       "    <tr style=\"text-align: right;\">\n",
       "      <th></th>\n",
       "      <th>color_encoded</th>\n",
       "      <th>color_blue</th>\n",
       "      <th>color_green</th>\n",
       "      <th>color_red</th>\n",
       "    </tr>\n",
       "  </thead>\n",
       "  <tbody>\n",
       "    <tr>\n",
       "      <th>0</th>\n",
       "      <td>2</td>\n",
       "      <td>False</td>\n",
       "      <td>False</td>\n",
       "      <td>True</td>\n",
       "    </tr>\n",
       "    <tr>\n",
       "      <th>1</th>\n",
       "      <td>1</td>\n",
       "      <td>False</td>\n",
       "      <td>True</td>\n",
       "      <td>False</td>\n",
       "    </tr>\n",
       "    <tr>\n",
       "      <th>2</th>\n",
       "      <td>0</td>\n",
       "      <td>True</td>\n",
       "      <td>False</td>\n",
       "      <td>False</td>\n",
       "    </tr>\n",
       "    <tr>\n",
       "      <th>3</th>\n",
       "      <td>1</td>\n",
       "      <td>False</td>\n",
       "      <td>True</td>\n",
       "      <td>False</td>\n",
       "    </tr>\n",
       "    <tr>\n",
       "      <th>4</th>\n",
       "      <td>2</td>\n",
       "      <td>False</td>\n",
       "      <td>False</td>\n",
       "      <td>True</td>\n",
       "    </tr>\n",
       "  </tbody>\n",
       "</table>\n",
       "</div>"
      ],
      "text/plain": [
       "   color_encoded  color_blue  color_green  color_red\n",
       "0              2       False        False       True\n",
       "1              1       False         True      False\n",
       "2              0        True        False      False\n",
       "3              1       False         True      False\n",
       "4              2       False        False       True"
      ]
     },
     "execution_count": 4,
     "metadata": {},
     "output_type": "execute_result"
    }
   ],
   "source": [
    "# apply one hot encoding\n",
    "df_one_hot = pd.get_dummies(df, columns=['color'])\n",
    "\n",
    "df_one_hot"
   ]
  },
  {
   "cell_type": "code",
   "execution_count": 5,
   "id": "4cb15ca8-58f6-4cf2-bfc9-5a46b1606b0f",
   "metadata": {},
   "outputs": [],
   "source": [
    "from sklearn.preprocessing import OneHotEncoder, LabelEncoder"
   ]
  },
  {
   "cell_type": "code",
   "execution_count": 6,
   "id": "8171e1d5-32c1-453f-9924-0ae9db749226",
   "metadata": {},
   "outputs": [],
   "source": [
    "df = pd.DataFrame({\n",
    "    'color': ['red', 'green', 'blue', 'green', 'red']\n",
    "})"
   ]
  },
  {
   "cell_type": "code",
   "execution_count": 7,
   "id": "61ff68ab-911e-4764-a580-3bb0e1b09910",
   "metadata": {},
   "outputs": [
    {
     "data": {
      "text/html": [
       "<div>\n",
       "<style scoped>\n",
       "    .dataframe tbody tr th:only-of-type {\n",
       "        vertical-align: middle;\n",
       "    }\n",
       "\n",
       "    .dataframe tbody tr th {\n",
       "        vertical-align: top;\n",
       "    }\n",
       "\n",
       "    .dataframe thead th {\n",
       "        text-align: right;\n",
       "    }\n",
       "</style>\n",
       "<table border=\"1\" class=\"dataframe\">\n",
       "  <thead>\n",
       "    <tr style=\"text-align: right;\">\n",
       "      <th></th>\n",
       "      <th>color</th>\n",
       "      <th>color_encoded</th>\n",
       "    </tr>\n",
       "  </thead>\n",
       "  <tbody>\n",
       "    <tr>\n",
       "      <th>0</th>\n",
       "      <td>red</td>\n",
       "      <td>2</td>\n",
       "    </tr>\n",
       "    <tr>\n",
       "      <th>1</th>\n",
       "      <td>green</td>\n",
       "      <td>1</td>\n",
       "    </tr>\n",
       "    <tr>\n",
       "      <th>2</th>\n",
       "      <td>blue</td>\n",
       "      <td>0</td>\n",
       "    </tr>\n",
       "    <tr>\n",
       "      <th>3</th>\n",
       "      <td>green</td>\n",
       "      <td>1</td>\n",
       "    </tr>\n",
       "    <tr>\n",
       "      <th>4</th>\n",
       "      <td>red</td>\n",
       "      <td>2</td>\n",
       "    </tr>\n",
       "  </tbody>\n",
       "</table>\n",
       "</div>"
      ],
      "text/plain": [
       "   color  color_encoded\n",
       "0    red              2\n",
       "1  green              1\n",
       "2   blue              0\n",
       "3  green              1\n",
       "4    red              2"
      ]
     },
     "execution_count": 7,
     "metadata": {},
     "output_type": "execute_result"
    }
   ],
   "source": [
    "le = LabelEncoder()\n",
    "df['color_encoded'] = le.fit_transform(df['color'])\n",
    "df"
   ]
  },
  {
   "cell_type": "code",
   "execution_count": 8,
   "id": "3405b343-4e4d-4ae4-9699-882beb1ee83a",
   "metadata": {},
   "outputs": [
    {
     "data": {
      "text/html": [
       "<div>\n",
       "<style scoped>\n",
       "    .dataframe tbody tr th:only-of-type {\n",
       "        vertical-align: middle;\n",
       "    }\n",
       "\n",
       "    .dataframe tbody tr th {\n",
       "        vertical-align: top;\n",
       "    }\n",
       "\n",
       "    .dataframe thead th {\n",
       "        text-align: right;\n",
       "    }\n",
       "</style>\n",
       "<table border=\"1\" class=\"dataframe\">\n",
       "  <thead>\n",
       "    <tr style=\"text-align: right;\">\n",
       "      <th></th>\n",
       "      <th>color_blue</th>\n",
       "      <th>color_green</th>\n",
       "      <th>color_red</th>\n",
       "    </tr>\n",
       "  </thead>\n",
       "  <tbody>\n",
       "    <tr>\n",
       "      <th>0</th>\n",
       "      <td>0.0</td>\n",
       "      <td>0.0</td>\n",
       "      <td>1.0</td>\n",
       "    </tr>\n",
       "    <tr>\n",
       "      <th>1</th>\n",
       "      <td>0.0</td>\n",
       "      <td>1.0</td>\n",
       "      <td>0.0</td>\n",
       "    </tr>\n",
       "    <tr>\n",
       "      <th>2</th>\n",
       "      <td>1.0</td>\n",
       "      <td>0.0</td>\n",
       "      <td>0.0</td>\n",
       "    </tr>\n",
       "    <tr>\n",
       "      <th>3</th>\n",
       "      <td>0.0</td>\n",
       "      <td>1.0</td>\n",
       "      <td>0.0</td>\n",
       "    </tr>\n",
       "    <tr>\n",
       "      <th>4</th>\n",
       "      <td>0.0</td>\n",
       "      <td>0.0</td>\n",
       "      <td>1.0</td>\n",
       "    </tr>\n",
       "  </tbody>\n",
       "</table>\n",
       "</div>"
      ],
      "text/plain": [
       "   color_blue  color_green  color_red\n",
       "0         0.0          0.0        1.0\n",
       "1         0.0          1.0        0.0\n",
       "2         1.0          0.0        0.0\n",
       "3         0.0          1.0        0.0\n",
       "4         0.0          0.0        1.0"
      ]
     },
     "execution_count": 8,
     "metadata": {},
     "output_type": "execute_result"
    }
   ],
   "source": [
    "# reshape the data for OneHotEncoder\n",
    "colors = df['color'].values.reshape(-1, 1)\n",
    "\n",
    "encoder = OneHotEncoder(sparse_output=False)\n",
    "colors_encoded = encoder.fit_transform(colors)\n",
    "df_one_hot_sklearn = pd.DataFrame(colors_encoded, columns=encoder.get_feature_names_out(['color']))\n",
    "df_one_hot_sklearn"
   ]
  },
  {
   "cell_type": "markdown",
   "id": "bf1d871c-a6c6-447e-b320-51f02dff2a32",
   "metadata": {},
   "source": [
    "# Preprocessing Numerical Variables\n",
    "\n",
    "Preprocessing numerical variables is crucial to ensure that models perform optimally. Common techniques for preprocessing numerical data includes scaling, normalization, and handling missing values.\n",
    "\n",
    "## Scaling\n",
    "\n",
    "Scaling adjusts the range of data so that different features contribute equally to the final prediction. It's essential when using algorithms that are sensitive to the magnitude of the variables, such as Support Vector Machines (SVM) or K-nearest neighbors (KNN).\n",
    "\n",
    "### Standardization\n",
    "\n",
    "Standardization rescales data to have a mean (μ) of 0 and standard deviation (σ) of 1 (unit variance).\n",
    "\n",
    "$$ x' = \\frac{x - \\mu}{\\sigma} $$\n",
    "\n",
    "### Min-Max Scaling\n",
    "\n",
    "Min-max scaling rescales the feature to a fixed range, usually 0 to 1.\n",
    "\n",
    "$$ x' = \\frac{x - \\text{min}(x)}{\\text{max}(x) - \\text{min}(x)} $$\n",
    "\n",
    "## Normalization\n",
    "\n",
    "Normalization adjusts the data that they measure the same scale. It's often used when the data follow a Gaussian distribution or when the scale of a feature is irrelevant.\n",
    "\n",
    "### L2 Normalization\n",
    "\n",
    "L2 normalization scales input vectors individually to unit norm (vector length).\n",
    "\n",
    "$$ x' = \\frac{x}{||x||_2} $$\n",
    "\n",
    "## Handling Missing Values\n",
    "\n",
    "Missing values can significantly affect the performance of machine learning models. Common strategies for handling missing data include imputation and removing records with missing values. You've learnt about this in `Unit 1.8`.\n",
    "\n",
    "### Imputation\n",
    "\n",
    "Imputation fills in missing values with a specific value, such as the mean, median, or mode of the column.\n",
    "\n",
    "### Removing Missing Values\n",
    "\n",
    "If the dataset has only a few missing values, it might be reasonable to drop those records. However, this can lead to loss of valuable data."
   ]
  },
  {
   "cell_type": "code",
   "execution_count": 9,
   "id": "9834a942-62a0-4afd-bb47-9613a89f55f4",
   "metadata": {},
   "outputs": [],
   "source": [
    "from sklearn.preprocessing import StandardScaler, MinMaxScaler, Normalizer"
   ]
  },
  {
   "cell_type": "code",
   "execution_count": 10,
   "id": "7d7b5fa9-130a-49b3-9d2c-abf55103f208",
   "metadata": {},
   "outputs": [
    {
     "data": {
      "text/html": [
       "<div>\n",
       "<style scoped>\n",
       "    .dataframe tbody tr th:only-of-type {\n",
       "        vertical-align: middle;\n",
       "    }\n",
       "\n",
       "    .dataframe tbody tr th {\n",
       "        vertical-align: top;\n",
       "    }\n",
       "\n",
       "    .dataframe thead th {\n",
       "        text-align: right;\n",
       "    }\n",
       "</style>\n",
       "<table border=\"1\" class=\"dataframe\">\n",
       "  <thead>\n",
       "    <tr style=\"text-align: right;\">\n",
       "      <th></th>\n",
       "      <th>feature1</th>\n",
       "      <th>feature2</th>\n",
       "    </tr>\n",
       "  </thead>\n",
       "  <tbody>\n",
       "    <tr>\n",
       "      <th>0</th>\n",
       "      <td>1</td>\n",
       "      <td>4</td>\n",
       "    </tr>\n",
       "    <tr>\n",
       "      <th>1</th>\n",
       "      <td>2</td>\n",
       "      <td>5</td>\n",
       "    </tr>\n",
       "    <tr>\n",
       "      <th>2</th>\n",
       "      <td>3</td>\n",
       "      <td>6</td>\n",
       "    </tr>\n",
       "  </tbody>\n",
       "</table>\n",
       "</div>"
      ],
      "text/plain": [
       "   feature1  feature2\n",
       "0         1         4\n",
       "1         2         5\n",
       "2         3         6"
      ]
     },
     "execution_count": 10,
     "metadata": {},
     "output_type": "execute_result"
    }
   ],
   "source": [
    "data = {'feature1': [1, 2, 3], 'feature2': [4, 5, 6]}\n",
    "df = pd.DataFrame(data)\n",
    "df"
   ]
  },
  {
   "cell_type": "markdown",
   "id": "451fc0af-7d8c-495a-90e2-1f4fcbb930b7",
   "metadata": {},
   "source": [
    "Standardization"
   ]
  },
  {
   "cell_type": "code",
   "execution_count": 11,
   "id": "4303029d-e399-4d80-a27a-fc3ef0c1254d",
   "metadata": {},
   "outputs": [
    {
     "data": {
      "text/html": [
       "<div>\n",
       "<style scoped>\n",
       "    .dataframe tbody tr th:only-of-type {\n",
       "        vertical-align: middle;\n",
       "    }\n",
       "\n",
       "    .dataframe tbody tr th {\n",
       "        vertical-align: top;\n",
       "    }\n",
       "\n",
       "    .dataframe thead th {\n",
       "        text-align: right;\n",
       "    }\n",
       "</style>\n",
       "<table border=\"1\" class=\"dataframe\">\n",
       "  <thead>\n",
       "    <tr style=\"text-align: right;\">\n",
       "      <th></th>\n",
       "      <th>feature1</th>\n",
       "      <th>feature2</th>\n",
       "    </tr>\n",
       "  </thead>\n",
       "  <tbody>\n",
       "    <tr>\n",
       "      <th>0</th>\n",
       "      <td>-1.224745</td>\n",
       "      <td>-1.224745</td>\n",
       "    </tr>\n",
       "    <tr>\n",
       "      <th>1</th>\n",
       "      <td>0.000000</td>\n",
       "      <td>0.000000</td>\n",
       "    </tr>\n",
       "    <tr>\n",
       "      <th>2</th>\n",
       "      <td>1.224745</td>\n",
       "      <td>1.224745</td>\n",
       "    </tr>\n",
       "  </tbody>\n",
       "</table>\n",
       "</div>"
      ],
      "text/plain": [
       "   feature1  feature2\n",
       "0 -1.224745 -1.224745\n",
       "1  0.000000  0.000000\n",
       "2  1.224745  1.224745"
      ]
     },
     "execution_count": 11,
     "metadata": {},
     "output_type": "execute_result"
    }
   ],
   "source": [
    "scaler = StandardScaler()\n",
    "df_standardized = pd.DataFrame(scaler.fit_transform(df), columns=df.columns)\n",
    "df_standardized"
   ]
  },
  {
   "cell_type": "markdown",
   "id": "bd5a58e3-ff6e-4b63-be83-41b350088e26",
   "metadata": {},
   "source": [
    "Min-Max Scaling"
   ]
  },
  {
   "cell_type": "code",
   "execution_count": 12,
   "id": "8ffef040-5f45-4b62-a87f-412d9611407d",
   "metadata": {},
   "outputs": [
    {
     "data": {
      "text/html": [
       "<div>\n",
       "<style scoped>\n",
       "    .dataframe tbody tr th:only-of-type {\n",
       "        vertical-align: middle;\n",
       "    }\n",
       "\n",
       "    .dataframe tbody tr th {\n",
       "        vertical-align: top;\n",
       "    }\n",
       "\n",
       "    .dataframe thead th {\n",
       "        text-align: right;\n",
       "    }\n",
       "</style>\n",
       "<table border=\"1\" class=\"dataframe\">\n",
       "  <thead>\n",
       "    <tr style=\"text-align: right;\">\n",
       "      <th></th>\n",
       "      <th>feature1</th>\n",
       "      <th>feature2</th>\n",
       "    </tr>\n",
       "  </thead>\n",
       "  <tbody>\n",
       "    <tr>\n",
       "      <th>0</th>\n",
       "      <td>0.0</td>\n",
       "      <td>0.0</td>\n",
       "    </tr>\n",
       "    <tr>\n",
       "      <th>1</th>\n",
       "      <td>0.5</td>\n",
       "      <td>0.5</td>\n",
       "    </tr>\n",
       "    <tr>\n",
       "      <th>2</th>\n",
       "      <td>1.0</td>\n",
       "      <td>1.0</td>\n",
       "    </tr>\n",
       "  </tbody>\n",
       "</table>\n",
       "</div>"
      ],
      "text/plain": [
       "   feature1  feature2\n",
       "0       0.0       0.0\n",
       "1       0.5       0.5\n",
       "2       1.0       1.0"
      ]
     },
     "execution_count": 12,
     "metadata": {},
     "output_type": "execute_result"
    }
   ],
   "source": [
    "minmax_scaler = MinMaxScaler()\n",
    "df_minmax = pd.DataFrame(minmax_scaler.fit_transform(df), columns=df.columns)\n",
    "df_minmax"
   ]
  },
  {
   "cell_type": "markdown",
   "id": "032d35ee-656c-425d-8fbc-2ba0a1fee1c8",
   "metadata": {},
   "source": [
    "L2 Normalization"
   ]
  },
  {
   "cell_type": "code",
   "execution_count": 13,
   "id": "235a3878-1d6a-4fe5-b76f-a39ee1413d24",
   "metadata": {},
   "outputs": [
    {
     "data": {
      "text/html": [
       "<div>\n",
       "<style scoped>\n",
       "    .dataframe tbody tr th:only-of-type {\n",
       "        vertical-align: middle;\n",
       "    }\n",
       "\n",
       "    .dataframe tbody tr th {\n",
       "        vertical-align: top;\n",
       "    }\n",
       "\n",
       "    .dataframe thead th {\n",
       "        text-align: right;\n",
       "    }\n",
       "</style>\n",
       "<table border=\"1\" class=\"dataframe\">\n",
       "  <thead>\n",
       "    <tr style=\"text-align: right;\">\n",
       "      <th></th>\n",
       "      <th>feature1</th>\n",
       "      <th>feature2</th>\n",
       "    </tr>\n",
       "  </thead>\n",
       "  <tbody>\n",
       "    <tr>\n",
       "      <th>0</th>\n",
       "      <td>0.242536</td>\n",
       "      <td>0.970143</td>\n",
       "    </tr>\n",
       "    <tr>\n",
       "      <th>1</th>\n",
       "      <td>0.371391</td>\n",
       "      <td>0.928477</td>\n",
       "    </tr>\n",
       "    <tr>\n",
       "      <th>2</th>\n",
       "      <td>0.447214</td>\n",
       "      <td>0.894427</td>\n",
       "    </tr>\n",
       "  </tbody>\n",
       "</table>\n",
       "</div>"
      ],
      "text/plain": [
       "   feature1  feature2\n",
       "0  0.242536  0.970143\n",
       "1  0.371391  0.928477\n",
       "2  0.447214  0.894427"
      ]
     },
     "execution_count": 13,
     "metadata": {},
     "output_type": "execute_result"
    }
   ],
   "source": [
    "normalizer = Normalizer()\n",
    "df_normalized = pd.DataFrame(normalizer.fit_transform(df), columns=df.columns)\n",
    "df_normalized"
   ]
  },
  {
   "cell_type": "code",
   "execution_count": 14,
   "id": "c80bfca0-abdc-4246-965f-57db851d9996",
   "metadata": {},
   "outputs": [
    {
     "data": {
      "text/html": [
       "<div>\n",
       "<style scoped>\n",
       "    .dataframe tbody tr th:only-of-type {\n",
       "        vertical-align: middle;\n",
       "    }\n",
       "\n",
       "    .dataframe tbody tr th {\n",
       "        vertical-align: top;\n",
       "    }\n",
       "\n",
       "    .dataframe thead th {\n",
       "        text-align: right;\n",
       "    }\n",
       "</style>\n",
       "<table border=\"1\" class=\"dataframe\">\n",
       "  <thead>\n",
       "    <tr style=\"text-align: right;\">\n",
       "      <th></th>\n",
       "      <th>feature1</th>\n",
       "      <th>feature2</th>\n",
       "    </tr>\n",
       "  </thead>\n",
       "  <tbody>\n",
       "    <tr>\n",
       "      <th>0</th>\n",
       "      <td>0.200000</td>\n",
       "      <td>0.800000</td>\n",
       "    </tr>\n",
       "    <tr>\n",
       "      <th>1</th>\n",
       "      <td>0.285714</td>\n",
       "      <td>0.714286</td>\n",
       "    </tr>\n",
       "    <tr>\n",
       "      <th>2</th>\n",
       "      <td>0.333333</td>\n",
       "      <td>0.666667</td>\n",
       "    </tr>\n",
       "  </tbody>\n",
       "</table>\n",
       "</div>"
      ],
      "text/plain": [
       "   feature1  feature2\n",
       "0  0.200000  0.800000\n",
       "1  0.285714  0.714286\n",
       "2  0.333333  0.666667"
      ]
     },
     "execution_count": 14,
     "metadata": {},
     "output_type": "execute_result"
    }
   ],
   "source": [
    "normalizer = Normalizer('l1')\n",
    "df_normalized = pd.DataFrame(normalizer.fit_transform(df), columns=df.columns)\n",
    "df_normalized"
   ]
  },
  {
   "cell_type": "markdown",
   "id": "1f93fc1b-1cdd-4fa0-a6b1-24d4dc2b9559",
   "metadata": {},
   "source": [
    "You learnt about handling missing data using `pandas` in `Unit 1.8`, `sklearn` also provides utilities to deal with missing data."
   ]
  },
  {
   "cell_type": "code",
   "execution_count": 15,
   "id": "fae1d8a5-daa7-4d0b-86ad-0b6d31d49222",
   "metadata": {},
   "outputs": [],
   "source": [
    "from sklearn.impute import SimpleImputer"
   ]
  },
  {
   "cell_type": "code",
   "execution_count": 16,
   "id": "c55b55fa-bbe1-41e8-a8f6-34594400a3cc",
   "metadata": {},
   "outputs": [
    {
     "data": {
      "text/html": [
       "<div>\n",
       "<style scoped>\n",
       "    .dataframe tbody tr th:only-of-type {\n",
       "        vertical-align: middle;\n",
       "    }\n",
       "\n",
       "    .dataframe tbody tr th {\n",
       "        vertical-align: top;\n",
       "    }\n",
       "\n",
       "    .dataframe thead th {\n",
       "        text-align: right;\n",
       "    }\n",
       "</style>\n",
       "<table border=\"1\" class=\"dataframe\">\n",
       "  <thead>\n",
       "    <tr style=\"text-align: right;\">\n",
       "      <th></th>\n",
       "      <th>feature1</th>\n",
       "      <th>feature2</th>\n",
       "    </tr>\n",
       "  </thead>\n",
       "  <tbody>\n",
       "    <tr>\n",
       "      <th>0</th>\n",
       "      <td>1.0</td>\n",
       "      <td>4.0</td>\n",
       "    </tr>\n",
       "    <tr>\n",
       "      <th>1</th>\n",
       "      <td>2.0</td>\n",
       "      <td>NaN</td>\n",
       "    </tr>\n",
       "    <tr>\n",
       "      <th>2</th>\n",
       "      <td>NaN</td>\n",
       "      <td>6.0</td>\n",
       "    </tr>\n",
       "  </tbody>\n",
       "</table>\n",
       "</div>"
      ],
      "text/plain": [
       "   feature1  feature2\n",
       "0       1.0       4.0\n",
       "1       2.0       NaN\n",
       "2       NaN       6.0"
      ]
     },
     "execution_count": 16,
     "metadata": {},
     "output_type": "execute_result"
    }
   ],
   "source": [
    "data_with_missing = {'feature1': [1, 2, None], 'feature2': [4, None, 6]}\n",
    "df_missing = pd.DataFrame(data_with_missing)\n",
    "df_missing"
   ]
  },
  {
   "cell_type": "code",
   "execution_count": 17,
   "id": "bf45cd78-1a8a-4430-ab13-6f17bfa5aa41",
   "metadata": {},
   "outputs": [
    {
     "data": {
      "text/html": [
       "<div>\n",
       "<style scoped>\n",
       "    .dataframe tbody tr th:only-of-type {\n",
       "        vertical-align: middle;\n",
       "    }\n",
       "\n",
       "    .dataframe tbody tr th {\n",
       "        vertical-align: top;\n",
       "    }\n",
       "\n",
       "    .dataframe thead th {\n",
       "        text-align: right;\n",
       "    }\n",
       "</style>\n",
       "<table border=\"1\" class=\"dataframe\">\n",
       "  <thead>\n",
       "    <tr style=\"text-align: right;\">\n",
       "      <th></th>\n",
       "      <th>feature1</th>\n",
       "      <th>feature2</th>\n",
       "    </tr>\n",
       "  </thead>\n",
       "  <tbody>\n",
       "    <tr>\n",
       "      <th>0</th>\n",
       "      <td>1.0</td>\n",
       "      <td>4.0</td>\n",
       "    </tr>\n",
       "    <tr>\n",
       "      <th>1</th>\n",
       "      <td>2.0</td>\n",
       "      <td>5.0</td>\n",
       "    </tr>\n",
       "    <tr>\n",
       "      <th>2</th>\n",
       "      <td>1.5</td>\n",
       "      <td>6.0</td>\n",
       "    </tr>\n",
       "  </tbody>\n",
       "</table>\n",
       "</div>"
      ],
      "text/plain": [
       "   feature1  feature2\n",
       "0       1.0       4.0\n",
       "1       2.0       5.0\n",
       "2       1.5       6.0"
      ]
     },
     "execution_count": 17,
     "metadata": {},
     "output_type": "execute_result"
    }
   ],
   "source": [
    "imputer = SimpleImputer(strategy='mean')\n",
    "df_imputed = pd.DataFrame(imputer.fit_transform(df_missing), columns=df_missing.columns)\n",
    "df_imputed"
   ]
  },
  {
   "cell_type": "markdown",
   "id": "84f37060-4c81-436f-a523-c262a0b5a413",
   "metadata": {},
   "source": [
    "# Classification Metrics"
   ]
  },
  {
   "cell_type": "markdown",
   "id": "b856ae0f-d9bf-41c5-bb77-db5931aaca66",
   "metadata": {},
   "source": [
    "In the previous unit, we used **Accuracy** to evaluate classification model. However, there are many other important metrics widely used to for classification evaluation.\n",
    "\n",
    "## Accuracy\n",
    "\n",
    "Accuracy is the most intuitive performance measure. It is simply the ratio of correctly predicted observations to the total observations.\n",
    "\n",
    "### Formula\n",
    "\n",
    "$$ \\text{Accuracy} = \\frac{\\text{Number of Correct Predictions}}{\\text{Total Number of Observations}} $$\n",
    "\n",
    "### When to Use\n",
    "\n",
    "Accuracy is best used when the target classes are well balanced. However, it can be misleading when dealing with imbalanced datasets.\n",
    "\n",
    "## Confusion Matrix\n",
    "\n",
    "A confusion matrix is a table that is used to describe the performance of a classification model on a set of test data for which the true values are known.\n",
    "\n",
    "### Components\n",
    "\n",
    "![confusion-matrix](../assets/confusion-matrix.png)\n",
    "\n",
    "- True Positive (TP): Correctly predicted positives\n",
    "- True Negative (TN): Correctly predicted negatives\n",
    "- False Positive (FP): Incorrectly predicted positives (Type I error)\n",
    "- False Negative (FN): Incorrectly predicted negatives (Type II error)\n",
    "\n",
    "### When to Use\n",
    "\n",
    "The confusion matrix is not a metric but a helpful tool for computing various metrics and gaining a more detailed insight into where the model is making errors.\n",
    "\n",
    "## Precision\n",
    "\n",
    "Precision is the ratio of correctly predicted positive observations to the total predicted positive observations.\n",
    "\n",
    "### Formula\n",
    "\n",
    "$$ \\text{Precision} = \\frac{\\text{TP}}{\\text{TP} + \\text{FP}} $$\n",
    "\n",
    "### When to Use\n",
    "\n",
    "Use precision when the cost of a false positive is high, such as in spam email detection.\n",
    "\n",
    "## Recall (also known as True Positve Rate or Sensitivity)\n",
    "\n",
    "Recall is the ratio of correctly predicted positive observations to all observations in the actual class.\n",
    "\n",
    "### Formula\n",
    "\n",
    "$$ \\text{Recall} = \\frac{\\text{TP}}{\\text{TP} + \\text{FN}} $$\n",
    "\n",
    "### When to Use\n",
    "\n",
    "Use recall when the cost of a false negative is high, such as in fraud detection.\n",
    "\n",
    "## Specificity (also known as True Negative Rate)\n",
    "\n",
    "Specificity measures the proportion of actual negatives that are correctly identified as such. It complements recall (sensitivity) by focusing on the model's performance with the negative class.\n",
    "\n",
    "### Formula\n",
    "\n",
    "$$ \\text{Specificity} = \\frac{\\text{TN}}{\\text{TN} + \\text{FP}} $$\n",
    "\n",
    "### When to Use\n",
    "\n",
    "Specificity is particularly important in situations where the cost of a false positive is high. For example, in medical diagnostics, a false positive might lead to unnecessary treatment, which could be costly or harmful.\n",
    "\n",
    "## F1 Score\n",
    "\n",
    "The F1 Score is the weighted average of Precision and Recall. Therefore, this score takes both false positives and false negatives into account.\n",
    "\n",
    "### Formula\n",
    "\n",
    "$$ \\text{F1 Score} = 2 \\times \\frac{\\text{Precision} \\times \\text{Recall}}{\\text{Precision} + \\text{Recall}} $$\n",
    "\n",
    "### When to Use\n",
    "\n",
    "Use the F1 score when you want to balance precision and recall, especially if there is an uneven class distribution.\n",
    "\n",
    "## ROC Curve and AUC\n",
    "\n",
    "The Receiver Operating Characteristic (ROC) curve and the Area Under the Curve (AUC) are powerful tools for evaluating the performance of classification models, particularly in binary classification. They help in visualizing and quantifying the trade-offs between true positive rate (sensitivity) and false positive rate (1 - specificity).\n",
    "\n",
    "It is created by plotting the TPR against the FPR at different threshold values. A threshold is a point above which a given observation is classified as belonging to the positive class.\n",
    "\n",
    "![roc-auc](../assets/roc-auc.png)\n",
    "\n",
    "### Interpretation of the ROC Curve\n",
    "\n",
    "- A curve near the top-left corner indicates a good performance.\n",
    "- The diagonal line (FPR = TPR) represents random guessing.\n",
    "- The area under the diagonal is 0.5, which is the AUC for a random classifier.\n",
    "\n",
    "### Area Under the Curve (AUC)\n",
    "\n",
    "The Area Under the Curve (AUC) represents the degree of separability between the classes. It is used as a summary of the ROC curve.\n",
    "\n",
    "### Interpretation of AUC\n",
    "\n",
    "- AUC = 1: Perfect classifier. All positive instances rank higher than all negative instances.\n",
    "- 0.5 < AUC < 1: Good classifier. Higher AUC indicates better performance.\n",
    "- AUC = 0.5: Random classifier. No discriminative power.\n",
    "- AUC < 0.5: Worse than random guessing, but by inverting the predictions, it could be useful.\n",
    "\n",
    "## Advantages of ROC and AUC\n",
    "\n",
    "- **Invariance to Class Distribution**: ROC and AUC are useful especially when dealing with imbalanced classes.\n",
    "- **Threshold Independence**: They measure the quality of the model's predictions without tying to a specific threshold.\n",
    "\n",
    "### When to Use\n",
    "\n",
    "ROC and AUC are useful when you need to evaluate a model's performance across different classification thresholds."
   ]
  },
  {
   "cell_type": "code",
   "execution_count": 18,
   "id": "298026e7-565d-4d1e-8c1b-03f7952f9739",
   "metadata": {},
   "outputs": [],
   "source": [
    "from sklearn.datasets import make_classification\n",
    "from sklearn.model_selection import train_test_split\n",
    "from sklearn.linear_model import LogisticRegression\n",
    "from sklearn.metrics import confusion_matrix, accuracy_score, precision_score, recall_score, f1_score, roc_curve, auc"
   ]
  },
  {
   "cell_type": "code",
   "execution_count": 19,
   "id": "ca0a7337-db13-4657-9151-290fcce3d1b0",
   "metadata": {},
   "outputs": [],
   "source": [
    "# generate a synthetic binary classification dataset\n",
    "X, y = make_classification(n_samples=1000, n_features=20, n_classes=2, random_state=0)"
   ]
  },
  {
   "cell_type": "code",
   "execution_count": 20,
   "id": "038f404e-61f8-4a0b-9f74-7fbd368540a3",
   "metadata": {},
   "outputs": [],
   "source": [
    "# split the dataset into training and test sets\n",
    "X_train, X_test, y_train, y_test = train_test_split(X, y, test_size=0.2, random_state=0)"
   ]
  },
  {
   "cell_type": "code",
   "execution_count": 21,
   "id": "3b3d8f10-7bca-4632-8f4f-78a4880e6d72",
   "metadata": {},
   "outputs": [],
   "source": [
    "model = LogisticRegression()\n",
    "model.fit(X_train, y_train)\n",
    "\n",
    "y_pred = model.predict(X_test)"
   ]
  },
  {
   "cell_type": "code",
   "execution_count": 22,
   "id": "3ad31bba-e358-40f9-b3d7-f5793033ea41",
   "metadata": {},
   "outputs": [],
   "source": [
    "conf_matrix = confusion_matrix(y_test, y_pred)\n",
    "accuracy = accuracy_score(y_test, y_pred)\n",
    "precision = precision_score(y_test, y_pred)\n",
    "recall = recall_score(y_test, y_pred)\n",
    "f1 = f1_score(y_test, y_pred)"
   ]
  },
  {
   "cell_type": "code",
   "execution_count": 23,
   "id": "f34da2c0-5603-4f8a-8af1-20b7627a3411",
   "metadata": {},
   "outputs": [],
   "source": [
    "fpr, tpr, thresholds = roc_curve(y_test, model.predict_proba(X_test)[:,1])\n",
    "roc_auc = auc(fpr, tpr)"
   ]
  },
  {
   "cell_type": "code",
   "execution_count": 24,
   "id": "52bc1ef4-d56e-4ddd-9f75-4f1e3079c667",
   "metadata": {},
   "outputs": [
    {
     "name": "stdout",
     "output_type": "stream",
     "text": [
      "Confusion Matrix:\n",
      "[[ 90   3]\n",
      " [  4 103]]\n",
      "Accuracy: 0.96\n",
      "Precision: 0.97\n",
      "Recall: 0.96\n",
      "F1 Score: 0.97\n",
      "AUC: 0.98\n"
     ]
    }
   ],
   "source": [
    "print(f\"Confusion Matrix:\\n{conf_matrix}\")\n",
    "print(f\"Accuracy: {accuracy:.2f}\")\n",
    "print(f\"Precision: {precision:.2f}\")\n",
    "print(f\"Recall: {recall:.2f}\")\n",
    "print(f\"F1 Score: {f1:.2f}\")\n",
    "print(f\"AUC: {roc_auc:.2f}\")"
   ]
  },
  {
   "cell_type": "code",
   "execution_count": 25,
   "id": "7a7d2878-4d97-47cb-a1b6-5512f4f4d3a7",
   "metadata": {},
   "outputs": [
    {
     "data": {
      "image/png": "[encoded data removed]",
      "text/plain": [
       "<Figure size 640x480 with 1 Axes>"
      ]
     },
     "metadata": {},
     "output_type": "display_data"
    }
   ],
   "source": [
    "plt.figure()\n",
    "plt.plot(fpr, tpr, color='darkorange', lw=2, label=f'ROC curve (area = {roc_auc:.2f})')\n",
    "plt.plot([0, 1], [0, 1], color='navy', lw=2, linestyle='--')\n",
    "plt.xlim([0.0, 1.0])\n",
    "plt.ylim([0.0, 1.05])\n",
    "plt.xlabel('False Positive Rate')\n",
    "plt.ylabel('True Positive Rate')\n",
    "plt.title('Receiver Operating Characteristic')\n",
    "plt.legend(loc=\"lower right\")\n",
    "plt.show()"
   ]
  },
  {
   "cell_type": "markdown",
   "id": "25c55098-ee05-4d40-9815-6f28707a1103",
   "metadata": {},
   "source": [
    "Choosing the right metric is crucial for evaluating and improving classification models effectively. It's important to consider the business context and the costs associated with different types of errors when deciding which metric to focus on. By understanding the strengths and limitations of each metric, you can develop more robust and reliable classifiers."
   ]
  },
  {
   "cell_type": "markdown",
   "id": "3b3adbfd-d3a5-4308-b812-8ff6db6d7547",
   "metadata": {},
   "source": [
    "# Regression Metrics\n",
    "\n",
    "In the previous unit, we used **Mean Squared Error (MSE)** and **R-Squared** to evaluate regression models. Here we'll cover other widely used regression metrics.\n",
    "\n",
    "## Mean Squared Error (MSE)\n",
    "\n",
    "Mean Squared Error is the average of the squared differences between the predicted values and the actual values. It gives a higher weight to larger errors.\n",
    "\n",
    "### Formula\n",
    "\n",
    "$$ \\text{MSE} = \\frac{1}{n} \\sum_{i=1}^{n} (y_i - \\hat{y}_i)^2 $$\n",
    "\n",
    "### Interpretation\n",
    "\n",
    "- MSE is sensitive to outliers.\n",
    "- Larger errors have a disproportionately large effect on MSE, making it useful when large errors are particularly undesirable.\n",
    "\n",
    "## Mean Absolute Error (MAE)\n",
    "\n",
    "Mean Absolute Error is the average of the absolute differences between the predicted values and the actual values. It gives an idea of how wrong the predictions were.\n",
    "\n",
    "### Formula\n",
    "\n",
    "$$ \\text{MAE} = \\frac{1}{n} \\sum_{i=1}^{n} |y_i - \\hat{y}_i| $$\n",
    "\n",
    "### Interpretation\n",
    "\n",
    "- MAE is easy to understand and calculate.\n",
    "- It measures the average magnitude of errors in a set of predictions, without considering their direction.\n",
    "\n",
    "## Root Mean Squared Error (RMSE)\n",
    "\n",
    "Root Mean Squared Error is the square root of the mean squared error. It is one of the most widely used metrics for regression tasks.\n",
    "\n",
    "### Formula\n",
    "\n",
    "$$ \\text{RMSE} = \\sqrt{\\frac{1}{n} \\sum_{i=1}^{n} (y_i - \\hat{y}_i)^2} $$\n",
    "\n",
    "### Interpretation\n",
    "\n",
    "- RMSE is in the same units as the response variable.\n",
    "- Like MSE, it gives a higher weight to larger errors.\n",
    "\n",
    "## R-squared (Coefficient of Determination)\n",
    "\n",
    "R-squared is a statistical measure that represents the proportion of the variance for the dependent variable that's explained by the independent variables in a regression model.\n",
    "\n",
    "### Formula\n",
    "\n",
    "$$ R^2 = 1 - \\frac{\\sum_{i=1}^{n} (y_i - \\hat{y}_i)^2}{\\sum_{i=1}^{n} (y_i - \\bar{y})^2} $$\n",
    "\n",
    "### Interpretation\n",
    "\n",
    "- R-squared values range from 0 to 1.\n",
    "- A higher R-squared value indicates a better fit between prediction and actual value.\n",
    "\n",
    "## Adjusted R-squared\n",
    "\n",
    "Adjusted R-squared is a modified version of R-squared that has been adjusted for the number of predictors in the model.\n",
    "\n",
    "### Formula\n",
    "\n",
    "$$ \\text{Adjusted } R^2 = 1 - \\frac{(1-R^2)(n-1)}{n-p-1} $$\n",
    "\n",
    "where:\n",
    "- $ n $ is the number of observations\n",
    "- $ p $ is the number of predictors\n",
    "\n",
    "### Interpretation\n",
    "\n",
    "- Adjusted R-squared penalizes for adding predictors that do not improve the model.\n",
    "- It's used to compare the explanatory power of regression models that contain different numbers of predictors."
   ]
  },
  {
   "cell_type": "code",
   "execution_count": 26,
   "id": "835cf6b2-a167-4286-a2aa-fdfcad1b3a1b",
   "metadata": {},
   "outputs": [],
   "source": [
    "from sklearn.metrics import mean_absolute_error, mean_squared_error, r2_score"
   ]
  },
  {
   "cell_type": "code",
   "execution_count": 27,
   "id": "e7f573c9-3ab9-49b2-9eea-cc526882147c",
   "metadata": {},
   "outputs": [],
   "source": [
    "y_true = [3, -0.5, 2, 7]\n",
    "y_pred = [2.5, 0.0, 2, 8]\n",
    "\n",
    "mae = mean_absolute_error(y_true, y_pred)\n",
    "mse = mean_squared_error(y_true, y_pred)\n",
    "rmse = np.sqrt(mse)\n",
    "r2 = r2_score(y_true, y_pred)"
   ]
  },
  {
   "cell_type": "code",
   "execution_count": 28,
   "id": "f5e4dab9-7dfc-4744-9beb-9ef39cd6b016",
   "metadata": {},
   "outputs": [
    {
     "name": "stdout",
     "output_type": "stream",
     "text": [
      "Mean Absolute Error (MAE): 0.50\n",
      "Mean Squared Error (MSE): 0.38\n",
      "Root Mean Squared Error (RMSE): 0.61\n",
      "R-squared (R^2): 0.95\n"
     ]
    }
   ],
   "source": [
    "print(f\"Mean Absolute Error (MAE): {mae:.2f}\")\n",
    "print(f\"Mean Squared Error (MSE): {mse:.2f}\")\n",
    "print(f\"Root Mean Squared Error (RMSE): {rmse:.2f}\")\n",
    "print(f\"R-squared (R^2): {r2:.2f}\")"
   ]
  },
  {
   "cell_type": "markdown",
   "id": "f4aac1bc-e265-4eb7-a5c3-eb0cc5695187",
   "metadata": {},
   "source": [
    "# End-to-end Workflow on Titanic Dataset\n",
    "\n",
    "We will apply all the above on the famous Titanic dataset to predict the survival of passengers.\n",
    "\n",
    "## Dataset Overview\n",
    "\n",
    "The Titanic dataset contains information about the passengers, which includes their age, sex, ticket class, and whether they survived the sinking of the Titanic. Refer to the description and data dictionary: https://www.kaggle.com/competitions/titanic/data"
   ]
  },
  {
   "cell_type": "code",
   "execution_count": 29,
   "id": "ca42b549-e961-4160-bc54-4e50172946c7",
   "metadata": {},
   "outputs": [],
   "source": [
    "import seaborn as sns"
   ]
  },
  {
   "cell_type": "code",
   "execution_count": 30,
   "id": "18aaf0c9-31de-482d-989c-0af83849abe7",
   "metadata": {},
   "outputs": [],
   "source": [
    "titanic = sns.load_dataset('titanic')"
   ]
  },
  {
   "cell_type": "code",
   "execution_count": 31,
   "id": "cda75c26-536d-4bec-8a18-8386ef288083",
   "metadata": {},
   "outputs": [
    {
     "data": {
      "text/plain": [
       "(891, 15)"
      ]
     },
     "execution_count": 31,
     "metadata": {},
     "output_type": "execute_result"
    }
   ],
   "source": [
    "titanic.shape"
   ]
  },
  {
   "cell_type": "code",
   "execution_count": 32,
   "id": "8e378cfa-8847-45e2-8a63-51c067b79073",
   "metadata": {},
   "outputs": [
    {
     "data": {
      "text/html": [
       "<div>\n",
       "<style scoped>\n",
       "    .dataframe tbody tr th:only-of-type {\n",
       "        vertical-align: middle;\n",
       "    }\n",
       "\n",
       "    .dataframe tbody tr th {\n",
       "        vertical-align: top;\n",
       "    }\n",
       "\n",
       "    .dataframe thead th {\n",
       "        text-align: right;\n",
       "    }\n",
       "</style>\n",
       "<table border=\"1\" class=\"dataframe\">\n",
       "  <thead>\n",
       "    <tr style=\"text-align: right;\">\n",
       "      <th></th>\n",
       "      <th>survived</th>\n",
       "      <th>pclass</th>\n",
       "      <th>sex</th>\n",
       "      <th>age</th>\n",
       "      <th>sibsp</th>\n",
       "      <th>parch</th>\n",
       "      <th>fare</th>\n",
       "      <th>embarked</th>\n",
       "      <th>class</th>\n",
       "      <th>who</th>\n",
       "      <th>adult_male</th>\n",
       "      <th>deck</th>\n",
       "      <th>embark_town</th>\n",
       "      <th>alive</th>\n",
       "      <th>alone</th>\n",
       "    </tr>\n",
       "  </thead>\n",
       "  <tbody>\n",
       "    <tr>\n",
       "      <th>0</th>\n",
       "      <td>0</td>\n",
       "      <td>3</td>\n",
       "      <td>male</td>\n",
       "      <td>22.0</td>\n",
       "      <td>1</td>\n",
       "      <td>0</td>\n",
       "      <td>7.2500</td>\n",
       "      <td>S</td>\n",
       "      <td>Third</td>\n",
       "      <td>man</td>\n",
       "      <td>True</td>\n",
       "      <td>NaN</td>\n",
       "      <td>Southampton</td>\n",
       "      <td>no</td>\n",
       "      <td>False</td>\n",
       "    </tr>\n",
       "    <tr>\n",
       "      <th>1</th>\n",
       "      <td>1</td>\n",
       "      <td>1</td>\n",
       "      <td>female</td>\n",
       "      <td>38.0</td>\n",
       "      <td>1</td>\n",
       "      <td>0</td>\n",
       "      <td>71.2833</td>\n",
       "      <td>C</td>\n",
       "      <td>First</td>\n",
       "      <td>woman</td>\n",
       "      <td>False</td>\n",
       "      <td>C</td>\n",
       "      <td>Cherbourg</td>\n",
       "      <td>yes</td>\n",
       "      <td>False</td>\n",
       "    </tr>\n",
       "    <tr>\n",
       "      <th>2</th>\n",
       "      <td>1</td>\n",
       "      <td>3</td>\n",
       "      <td>female</td>\n",
       "      <td>26.0</td>\n",
       "      <td>0</td>\n",
       "      <td>0</td>\n",
       "      <td>7.9250</td>\n",
       "      <td>S</td>\n",
       "      <td>Third</td>\n",
       "      <td>woman</td>\n",
       "      <td>False</td>\n",
       "      <td>NaN</td>\n",
       "      <td>Southampton</td>\n",
       "      <td>yes</td>\n",
       "      <td>True</td>\n",
       "    </tr>\n",
       "    <tr>\n",
       "      <th>3</th>\n",
       "      <td>1</td>\n",
       "      <td>1</td>\n",
       "      <td>female</td>\n",
       "      <td>35.0</td>\n",
       "      <td>1</td>\n",
       "      <td>0</td>\n",
       "      <td>53.1000</td>\n",
       "      <td>S</td>\n",
       "      <td>First</td>\n",
       "      <td>woman</td>\n",
       "      <td>False</td>\n",
       "      <td>C</td>\n",
       "      <td>Southampton</td>\n",
       "      <td>yes</td>\n",
       "      <td>False</td>\n",
       "    </tr>\n",
       "    <tr>\n",
       "      <th>4</th>\n",
       "      <td>0</td>\n",
       "      <td>3</td>\n",
       "      <td>male</td>\n",
       "      <td>35.0</td>\n",
       "      <td>0</td>\n",
       "      <td>0</td>\n",
       "      <td>8.0500</td>\n",
       "      <td>S</td>\n",
       "      <td>Third</td>\n",
       "      <td>man</td>\n",
       "      <td>True</td>\n",
       "      <td>NaN</td>\n",
       "      <td>Southampton</td>\n",
       "      <td>no</td>\n",
       "      <td>True</td>\n",
       "    </tr>\n",
       "  </tbody>\n",
       "</table>\n",
       "</div>"
      ],
      "text/plain": [
       "   survived  pclass     sex   age  sibsp  parch     fare embarked  class  \\\n",
       "0         0       3    male  22.0      1      0   7.2500        S  Third   \n",
       "1         1       1  female  38.0      1      0  71.2833        C  First   \n",
       "2         1       3  female  26.0      0      0   7.9250        S  Third   \n",
       "3         1       1  female  35.0      1      0  53.1000        S  First   \n",
       "4         0       3    male  35.0      0      0   8.0500        S  Third   \n",
       "\n",
       "     who  adult_male deck  embark_town alive  alone  \n",
       "0    man        True  NaN  Southampton    no  False  \n",
       "1  woman       False    C    Cherbourg   yes  False  \n",
       "2  woman       False  NaN  Southampton   yes   True  \n",
       "3  woman       False    C  Southampton   yes  False  \n",
       "4    man        True  NaN  Southampton    no   True  "
      ]
     },
     "execution_count": 32,
     "metadata": {},
     "output_type": "execute_result"
    }
   ],
   "source": [
    "titanic.head()"
   ]
  },
  {
   "cell_type": "code",
   "execution_count": 33,
   "id": "2a72be4f-1a1f-4b05-b1cd-7cf29aa3ae3b",
   "metadata": {},
   "outputs": [
    {
     "data": {
      "text/plain": [
       "survived\n",
       "0    549\n",
       "1    342\n",
       "Name: count, dtype: int64"
      ]
     },
     "execution_count": 33,
     "metadata": {},
     "output_type": "execute_result"
    }
   ],
   "source": [
    "titanic.survived.value_counts()"
   ]
  },
  {
   "cell_type": "code",
   "execution_count": 34,
   "id": "84a5b6e4-b629-4d3e-abe2-95d3791dadfb",
   "metadata": {},
   "outputs": [
    {
     "data": {
      "text/plain": [
       "survived         0\n",
       "pclass           0\n",
       "sex              0\n",
       "age            177\n",
       "sibsp            0\n",
       "parch            0\n",
       "fare             0\n",
       "embarked         2\n",
       "class            0\n",
       "who              0\n",
       "adult_male       0\n",
       "deck           688\n",
       "embark_town      2\n",
       "alive            0\n",
       "alone            0\n",
       "dtype: int64"
      ]
     },
     "execution_count": 34,
     "metadata": {},
     "output_type": "execute_result"
    }
   ],
   "source": [
    "titanic.isna().sum()"
   ]
  },
  {
   "cell_type": "markdown",
   "id": "599d14e9-8979-483e-887d-768ccf1642dc",
   "metadata": {},
   "source": [
    "## Preprocessing\n",
    "\n",
    "Before applying machine learning algorithms, we need to preprocess the data.\n",
    "\n",
    "- Selecting the features / variables that we want to use for model training.\n",
    "- Missing data can be imputed or removed. We will drop features with more than 50% missing values. For simplicity, we will fill missing numerical values with the median and categorical values with the most frequent (mode).\n",
    "- Categorical variables should be converted into numeric form. We will use label encoding for binary categories and one-hot encoding for multi-class categories.\n",
    "- We will standardize the numerical features to have a mean of zero and a standard deviation of one.\n",
    "\n",
    "## Model Training\n",
    "\n",
    "We will split the data into training and testing sets and train a logistic regression model on the training data.\n",
    "\n",
    "## Evaluation\n",
    "\n",
    "We will evaluate the model's performance using accuracy, precision, recall, F1 score and AUC."
   ]
  },
  {
   "cell_type": "code",
   "execution_count": 35,
   "id": "f60e1a5d-b842-456a-9b03-f55594406d3b",
   "metadata": {},
   "outputs": [],
   "source": [
    "from sklearn.model_selection import train_test_split\n",
    "from sklearn.preprocessing import StandardScaler, OneHotEncoder\n",
    "from sklearn.compose import ColumnTransformer\n",
    "from sklearn.impute import SimpleImputer\n",
    "from sklearn.pipeline import Pipeline\n",
    "from sklearn.linear_model import LogisticRegression\n",
    "from sklearn.metrics import accuracy_score, precision_score, recall_score, f1_score, roc_curve, auc"
   ]
  },
  {
   "cell_type": "code",
   "execution_count": 50,
   "id": "7acdcec1-8bd9-4f50-8d97-f9af983fa36f",
   "metadata": {},
   "outputs": [],
   "source": [
    "features = ['pclass', 'sex', 'age', 'sibsp', 'parch', 'fare', 'embarked']\n",
    "target = 'survived'\n",
    "\n",
    "X = titanic[features]\n",
    "y = titanic[target]"
   ]
  },
  {
   "cell_type": "markdown",
   "id": "e65b3483-de1c-4b64-bfbc-4f3179f00129",
   "metadata": {},
   "source": [
    "`sklearn`'s pipeline is a tool that allows us to assemble several steps together. It sequentially applies a list of transforms and a final estimator. Intermediate steps of the pipeline must be ‘transforms’, that is, they must implement fit and transform methods. The final estimator only needs to implement fit."
   ]
  },
  {
   "cell_type": "code",
   "execution_count": 37,
   "id": "1dea0330-07c0-47e4-b87a-7931bbc582b8",
   "metadata": {},
   "outputs": [],
   "source": [
    "# preprocessing for numerical data\n",
    "numerical_transformer = Pipeline(steps=[\n",
    "    ('imputer', SimpleImputer(strategy='median')),\n",
    "    ('scaler', StandardScaler())\n",
    "])\n",
    "\n",
    "# preprocessing for categorical data\n",
    "categorical_transformer = Pipeline(steps=[\n",
    "    ('imputer', SimpleImputer(strategy='most_frequent')),\n",
    "    ('onehot', OneHotEncoder(handle_unknown='ignore'))\n",
    "])\n",
    "\n",
    "# bundle preprocessing for numerical and categorical data\n",
    "preprocessor = ColumnTransformer(\n",
    "    transformers=[\n",
    "        ('num', numerical_transformer, ['age', 'sibsp', 'parch', 'fare']),\n",
    "        ('cat', categorical_transformer, ['pclass', 'sex', 'embarked'])\n",
    "    ])\n",
    "\n",
    "# define the model\n",
    "model = LogisticRegression()\n",
    "\n",
    "# create and evaluate the pipeline\n",
    "pipeline = Pipeline(steps=[('preprocessor', preprocessor),\n",
    "                           ('model', model)\n",
    "                          ])"
   ]
  },
  {
   "cell_type": "code",
   "execution_count": 38,
   "id": "0268c21d-3a0a-4414-99f7-8eb87d9d7c23",
   "metadata": {},
   "outputs": [],
   "source": [
    "X_train, X_test, y_train, y_test = train_test_split(X, y, test_size=0.2, random_state=0)\n",
    "\n",
    "pipeline.fit(X_train, y_train)\n",
    "\n",
    "preds = pipeline.predict(X_test)"
   ]
  },
  {
   "cell_type": "code",
   "execution_count": 39,
   "id": "32ce2ae5-8bd4-491b-b8b0-3f7886f1888f",
   "metadata": {},
   "outputs": [],
   "source": [
    "accuracy = accuracy_score(y_test, preds)\n",
    "precision = precision_score(y_test, preds)\n",
    "recall = recall_score(y_test, preds)\n",
    "f1 = f1_score(y_test, preds)\n",
    "fpr, tpr, thresholds = roc_curve(y_test, pipeline.predict_proba(X_test)[:,1])\n",
    "roc_auc = auc(fpr, tpr)"
   ]
  },
  {
   "cell_type": "code",
   "execution_count": 40,
   "id": "956558e7-a934-413f-92c7-9d9dcc902039",
   "metadata": {},
   "outputs": [
    {
     "name": "stdout",
     "output_type": "stream",
     "text": [
      "Accuracy: 0.80\n",
      "Precision: 0.75\n",
      "Recall: 0.74\n",
      "F1 Score: 0.74\n",
      "AUC: 0.87\n"
     ]
    }
   ],
   "source": [
    "print(f'Accuracy: {accuracy:.2f}')\n",
    "print(f'Precision: {precision:.2f}')\n",
    "print(f'Recall: {recall:.2f}')\n",
    "print(f'F1 Score: {f1:.2f}')\n",
    "print(f\"AUC: {roc_auc:.2f}\")"
   ]
  },
  {
   "cell_type": "markdown",
   "id": "49bfd4e2-3392-4be2-8642-48d9a4bc2efc",
   "metadata": {},
   "source": [
    "> Now, recreate the workflow but use min-max scaling for numerical features and KNN classifier for model."
   ]
  },
  {
   "cell_type": "code",
   "execution_count": 41,
   "id": "cd3a6faa-9a34-4f94-b5bf-e7d1530decd6",
   "metadata": {},
   "outputs": [],
   "source": [
    "from sklearn.neighbors import KNeighborsClassifier"
   ]
  },
  {
   "cell_type": "code",
   "execution_count": 42,
   "id": "39924f5e-887e-4e53-83a5-72da186ebc96",
   "metadata": {},
   "outputs": [],
   "source": [
    "numerical_transformer = Pipeline(steps=[\n",
    "    ('imputer', SimpleImputer(strategy='median')),\n",
    "    ('scaler', MinMaxScaler())\n",
    "])\n",
    "\n",
    "preprocessor = ColumnTransformer(\n",
    "    transformers=[\n",
    "        ('num', numerical_transformer, ['age', 'sibsp', 'parch', 'fare']),\n",
    "        ('cat', categorical_transformer, ['pclass', 'sex', 'embarked'])\n",
    "    ])\n",
    "\n",
    "model = KNeighborsClassifier()\n",
    "\n",
    "pipeline = Pipeline(steps=[('preprocessor', preprocessor),\n",
    "                           ('model', model)\n",
    "                          ])"
   ]
  },
  {
   "cell_type": "code",
   "execution_count": 43,
   "id": "00891058-e22f-4e88-bec7-e7a0adaef996",
   "metadata": {},
   "outputs": [],
   "source": [
    "pipeline.fit(X_train, y_train)\n",
    "preds = pipeline.predict(X_test)"
   ]
  },
  {
   "cell_type": "code",
   "execution_count": 44,
   "id": "a9d9d1dc-573e-410d-a541-2f89f87f43b1",
   "metadata": {},
   "outputs": [],
   "source": [
    "accuracy = accuracy_score(y_test, preds)\n",
    "precision = precision_score(y_test, preds)\n",
    "recall = recall_score(y_test, preds)\n",
    "f1 = f1_score(y_test, preds)\n",
    "fpr, tpr, thresholds = roc_curve(y_test, pipeline.predict_proba(X_test)[:,1])\n",
    "roc_auc = auc(fpr, tpr)"
   ]
  },
  {
   "cell_type": "code",
   "execution_count": 45,
   "id": "8806845e-fc87-454f-aeb6-b19ef82ff2eb",
   "metadata": {},
   "outputs": [
    {
     "name": "stdout",
     "output_type": "stream",
     "text": [
      "Accuracy: 0.81\n",
      "Precision: 0.79\n",
      "Recall: 0.70\n",
      "F1 Score: 0.74\n",
      "AUC: 0.85\n"
     ]
    }
   ],
   "source": [
    "print(f'Accuracy: {accuracy:.2f}')\n",
    "print(f'Precision: {precision:.2f}')\n",
    "print(f'Recall: {recall:.2f}')\n",
    "print(f'F1 Score: {f1:.2f}')\n",
    "print(f\"AUC: {roc_auc:.2f}\")"
   ]
  },
  {
   "cell_type": "markdown",
   "id": "e34bb465-44c4-460a-8e18-72a2d6e7a149",
   "metadata": {},
   "source": [
    "# Understanding the Bias-Variance Tradeoff in Machine Learning\n",
    "\n",
    "## Introduction\n",
    "\n",
    "In machine learning, the bias-variance tradeoff is a fundamental concept that describes the balance between two types of errors a model can make: bias and variance. Understanding this tradeoff is crucial for creating models that generalize well to unseen data. We'll explore what bias and variance are, how they affect machine learning models, and strategies to achieve a good balance between the two.\n",
    "\n",
    "## What is Bias?\n",
    "\n",
    "Bias refers to the error that is introduced by approximating a real-world problem, which may be complex, by a simplified model. In other words, it's the difference between the expected prediction of our model and the true values. High bias can cause the model to miss relevant relations between features and target outputs (also known as underfitting).\n",
    "\n",
    "### Examples of High Bias:\n",
    "- Linear regression on non-linear data\n",
    "- Assuming simplicity when the data has a more complex structure\n",
    "\n",
    "## What is Variance?\n",
    "\n",
    "Variance refers to the error that is introduced by the model's sensitivity to the fluctuations in the training dataset. A model with high variance pays a lot of attention to training data and does not generalize on the data which it hasn't seen before (also known as overfitting).\n",
    "\n",
    "### Examples of High Variance:\n",
    "- Fitting a high-degree polynomial to data with lots of fluctuations\n",
    "- A complex decision tree that creates a branch for each data point\n",
    "\n",
    "> We will learn more about decision tree in the next unit\n",
    "\n",
    "## The Tradeoff\n",
    "\n",
    "The bias-variance tradeoff is the balance between the error introduced by the bias and the variance. Ideally, we want to choose a model where both bias and variance are as low as possible. However, in practice, decreasing one will often increase the other. A model with high bias (simple models) will not be complex enough to capture the patterns in the data, leading to underfitting. Conversely, a model with high variance (complex models) will capture noise in the training data, leading to overfitting.\n",
    "\n",
    "![bv-2](../assets/bv-tradeoff-2.png)\n",
    "\n",
    "### Visual Representation\n",
    "\n",
    "Imagine a target that we are trying to hit with our predictions:\n",
    "\n",
    "![bv](../assets/bv-tradeoff.png)\n",
    "\n",
    "- High bias is when our predictions are consistently far off from the target.\n",
    "- High variance is when our predictions are all over the place around the target.\n",
    "- Low bias and low variance are when our predictions are consistently close to the target.\n",
    "\n",
    "## Balancing Bias and Variance\n",
    "\n",
    "To achieve a model that generalizes well, we need to find a sweet spot that minimizes both bias and variance.\n",
    "\n",
    "### Techniques to Balance Bias and Variance:\n",
    "\n",
    "1. **Cross-validation**: Helps in assessing how the results of a statistical analysis will generalize to an independent dataset.\n",
    "2. **Training with more data**: Helps to reduce variance without increasing bias.\n",
    "3. **Feature selection**: Removing irrelevant features can reduce variance without increasing bias too much.\n",
    "4. **Regularization**: Techniques like Lasso and Ridge can reduce variance at the cost of introducing some bias.\n",
    "5. **Ensemble methods**: Combining predictions from several models can reduce both bias and variance.\n",
    "\n",
    "> We will learn more about these techniques in the next unit."
   ]
  },
  {
   "cell_type": "code",
   "execution_count": 46,
   "id": "63bc67c3-217c-4a68-a16d-9a27f7e51480",
   "metadata": {},
   "outputs": [],
   "source": [
    "from sklearn.model_selection import train_test_split\n",
    "from sklearn.metrics import mean_squared_error\n",
    "from sklearn.linear_model import LinearRegression\n",
    "from sklearn.preprocessing import PolynomialFeatures\n",
    "from sklearn.pipeline import make_pipeline"
   ]
  },
  {
   "cell_type": "code",
   "execution_count": 47,
   "id": "a2888e87-62af-4d7c-bbc2-d369008d9c10",
   "metadata": {},
   "outputs": [],
   "source": [
    "# Generate some data\n",
    "np.random.seed(0)\n",
    "n_samples = 30\n",
    "degrees = [1, 4, 15]\n",
    "\n",
    "X = np.sort(np.random.rand(n_samples))\n",
    "y = np.cos(1.5 * np.pi * X) + np.random.randn(n_samples) * 0.1\n",
    "\n",
    "X = X[:, np.newaxis]"
   ]
  },
  {
   "cell_type": "code",
   "execution_count": 48,
   "id": "3de58c9a-1f94-4e96-ac66-c07287b02d6d",
   "metadata": {},
   "outputs": [],
   "source": [
    "X_train, X_test, y_train, y_test = train_test_split(X, y, test_size=0.2)"
   ]
  },
  {
   "cell_type": "code",
   "execution_count": 49,
   "id": "0853cf34-6696-49c0-b709-fe1f6092fe2f",
   "metadata": {},
   "outputs": [
    {
     "data": {
      "image/png": "[encoded data removed]",
      "text/plain": [
       "<Figure size 1400x500 with 3 Axes>"
      ]
     },
     "metadata": {},
     "output_type": "display_data"
    }
   ],
   "source": [
    "# Plot the true function\n",
    "plt.figure(figsize=(14, 5))\n",
    "for i in range(len(degrees)):\n",
    "    ax = plt.subplot(1, len(degrees), i + 1)\n",
    "    plt.setp(ax, xticks=(), yticks=())\n",
    "\n",
    "    polynomial_features = PolynomialFeatures(degree=degrees[i], include_bias=False)\n",
    "    linear_regression = LinearRegression()\n",
    "    pipeline = make_pipeline(polynomial_features, linear_regression)\n",
    "    pipeline.fit(X_train, y_train)\n",
    "\n",
    "    # Evaluate the models using cross-validation\n",
    "    scores = mean_squared_error(pipeline.predict(X_test), y_test)\n",
    "\n",
    "    X_plot = np.linspace(0, 1, 100)\n",
    "    plt.plot(X_plot, pipeline.predict(X_plot[:, np.newaxis]), label=\"Model\")\n",
    "    plt.plot(X_plot, np.cos(1.5 * np.pi * X_plot), label=\"True function\")\n",
    "    plt.scatter(X_train, y_train, edgecolor='b', s=20, label=\"Samples\")\n",
    "    plt.xlabel(\"x\")\n",
    "    plt.ylabel(\"y\")\n",
    "    plt.xlim((0, 1))\n",
    "    plt.ylim((-2, 2))\n",
    "    plt.legend(loc=\"best\")\n",
    "    plt.title(\"Degree {}\\nMSE = {:.2e}(+/- {:.2e})\".format(degrees[i], scores.mean(), scores.std()))\n",
    "plt.show()"
   ]
  },
  {
   "cell_type": "markdown",
   "id": "3059a416-eb2e-454e-a185-19cad545c2ac",
   "metadata": {},
   "source": [
    "In the plots above, you will see that the model with degree 1 has high bias and low variance, the model with degree 15 has low bias and high variance, and the model with degree 4 is trying to balance both."
   ]
  }
 ],
 "metadata": {
  "kernelspec": {
   "display_name": "Python 3",
   "language": "python",
   "name": "python3"
  },
  "language_info": {
   "codemirror_mode": {
    "name": "ipython",
    "version": 3
   },
   "file_extension": ".py",
   "mimetype": "text/x-python",
   "name": "python",
   "nbconvert_exporter": "python",
   "pygments_lexer": "ipython3",
   "version": "3.11.5"
  }
 },
 "nbformat": 4,
 "nbformat_minor": 5
}
